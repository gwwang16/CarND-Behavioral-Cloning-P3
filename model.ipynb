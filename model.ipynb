{
 "cells": [
  {
   "cell_type": "code",
   "execution_count": 4,
   "metadata": {
    "collapsed": true
   },
   "outputs": [],
   "source": [
    "import csv, cv2, os\n",
    "import numpy as np\n",
    "import pandas as pd\n",
    "import matplotlib.pyplot as plt\n",
    "%matplotlib inline\n",
    "%config InlineBackend.figure_format = 'retina'"
   ]
  },
  {
   "cell_type": "markdown",
   "metadata": {},
   "source": [
    "### Preprocess data\n",
    "Merge images from three angles, left, center and right."
   ]
  },
  {
   "cell_type": "code",
   "execution_count": 37,
   "metadata": {
    "collapsed": true
   },
   "outputs": [],
   "source": [
    "data = pd.read_csv('./data/driving_log.csv')"
   ]
  },
  {
   "cell_type": "code",
   "execution_count": 38,
   "metadata": {},
   "outputs": [
    {
     "name": "stderr",
     "output_type": "stream",
     "text": [
      "D:\\Program Files\\Anaconda3\\envs\\RoboND\\lib\\site-packages\\pandas\\core\\generic.py:3110: SettingWithCopyWarning: \n",
      "A value is trying to be set on a copy of a slice from a DataFrame.\n",
      "Try using .loc[row_indexer,col_indexer] = value instead\n",
      "\n",
      "See the caveats in the documentation: http://pandas.pydata.org/pandas-docs/stable/indexing.html#indexing-view-versus-copy\n",
      "  self[name] = value\n"
     ]
    }
   ],
   "source": [
    "# Using three images with offset steering\n",
    "offset_angle = 0.25\n",
    "\n",
    "# Extract center image path and steering\n",
    "df_center = data[['center','steering']]\n",
    "# Extract left image path and steering\n",
    "df_left = data[['left','steering']]\n",
    "df_left.steering += offset_angle\n",
    "# Extract right image path and steering\n",
    "df_right = data[['right','steering']]\n",
    "df_right.steering -= offset_angle"
   ]
  },
  {
   "cell_type": "code",
   "execution_count": 39,
   "metadata": {},
   "outputs": [],
   "source": [
    "# unify columns to concat\n",
    "df_center.columns = ['path', 'steering']\n",
    "df_right.columns = ['path', 'steering']\n",
    "df_left.columns = ['path', 'steering']\n",
    "# concat these three dataframes into one\n",
    "data0 = pd.concat([df_center, df_left,df_right],ignore_index =True)"
   ]
  },
  {
   "cell_type": "code",
   "execution_count": 40,
   "metadata": {},
   "outputs": [
    {
     "name": "stdout",
     "output_type": "stream",
     "text": [
      "<class 'pandas.core.frame.DataFrame'>\n",
      "RangeIndex: 24108 entries, 0 to 24107\n",
      "Data columns (total 2 columns):\n",
      "path        24108 non-null object\n",
      "steering    24108 non-null float64\n",
      "dtypes: float64(1), object(1)\n",
      "memory usage: 376.8+ KB\n"
     ]
    }
   ],
   "source": [
    "data0.info()"
   ]
  },
  {
   "cell_type": "markdown",
   "metadata": {},
   "source": [
    "### Extra collecting data"
   ]
  },
  {
   "cell_type": "code",
   "execution_count": 41,
   "metadata": {
    "collapsed": true
   },
   "outputs": [],
   "source": [
    "def data_import(path):\n",
    "    # The collected csv files don't have header, add them\n",
    "    data = pd.read_csv(path + '/driving_log.csv', names = ['center','left','right','steering','throttle','brake','speed'])\n",
    "    # Using three images with offset steering\n",
    "    offset_angle = 0.25\n",
    "    # Extract center image path and steering\n",
    "    df_center = data[['center','steering']]\n",
    "    # Extract left image path and steering\n",
    "    df_left = data[['left','steering']]\n",
    "    df_left.steering += offset_angle\n",
    "    # Extract right image path and steering\n",
    "    df_right = data[['right','steering']]\n",
    "    df_right.steering -= offset_angle\n",
    "    # unify columns to concat\n",
    "    df_center.columns = ['path', 'steering']\n",
    "    df_right.columns = ['path', 'steering']\n",
    "    df_left.columns = ['path', 'steering']\n",
    "    # concat these three dataframes into one\n",
    "    df_result = pd.concat([df_center, df_left,df_right],ignore_index =True)\n",
    "    return df_result"
   ]
  },
  {
   "cell_type": "code",
   "execution_count": 42,
   "metadata": {},
   "outputs": [
    {
     "name": "stderr",
     "output_type": "stream",
     "text": [
      "D:\\Program Files\\Anaconda3\\envs\\RoboND\\lib\\site-packages\\pandas\\core\\generic.py:3110: SettingWithCopyWarning: \n",
      "A value is trying to be set on a copy of a slice from a DataFrame.\n",
      "Try using .loc[row_indexer,col_indexer] = value instead\n",
      "\n",
      "See the caveats in the documentation: http://pandas.pydata.org/pandas-docs/stable/indexing.html#indexing-view-versus-copy\n",
      "  self[name] = value\n"
     ]
    }
   ],
   "source": [
    "data1 = data_import('./data/run1')\n",
    "data2 = data_import('./data/run2')\n",
    "data3 = data_import('./data/run3')"
   ]
  },
  {
   "cell_type": "code",
   "execution_count": 43,
   "metadata": {
    "collapsed": true
   },
   "outputs": [],
   "source": [
    "data_all = pd.concat([data0, data1, data2, data3],ignore_index =True)"
   ]
  },
  {
   "cell_type": "code",
   "execution_count": 79,
   "metadata": {
    "collapsed": true
   },
   "outputs": [],
   "source": [
    "from sklearn.model_selection import train_test_split\n",
    "train_samples, validation_samples = train_test_split(data_all, test_size=0.2, random_state=42)"
   ]
  },
  {
   "cell_type": "code",
   "execution_count": 77,
   "metadata": {
    "collapsed": true
   },
   "outputs": [],
   "source": [
    "def generator(samples, batch_size=32):\n",
    "    '''data generator'''\n",
    "    num_samples = len(samples)\n",
    "    while 1:  # Loop forever so the generator never terminates\n",
    "        for offset in range(0, num_samples):\n",
    "            batch_samples = samples[offset:offset+batch_size]\n",
    "            \n",
    "            images = []\n",
    "            angles = []\n",
    "            for index in range(0, batch_size):\n",
    "                # replace \\\\ to / for the collected data path\n",
    "                batch_samples.iloc[index]['path'] = batch_samples.iloc[index]['path'].replace('\\\\','/')\n",
    "                file_path = './data/IMG/' + batch_samples.iloc[index]['path'].split('/')[-1]\n",
    "                image = cv2.imread(file_path)\n",
    "                image = cv2.cvtColor(image, cv2.COLOR_BGR2RGB)\n",
    "                angle = float(batch_samples.iloc[index]['steering'])\n",
    "                images.append(image)\n",
    "                angles.append(angle)\n",
    "#                 image_flipped = np.fliplr(center_image)\n",
    "#                 angle_flipped = - center_angle\n",
    "#                 images.append(image_flipped)\n",
    "#                 angles.append(angle_flipped)\n",
    "            \n",
    "            X_train = np.array(images)\n",
    "            y_train = np.array(angles)\n",
    "            yield X_train, y_train\n",
    "\n",
    "train_generator = generator(train_samples, batch_size=32)\n",
    "validation_generator = generator(validation_samples, batch_size=32)"
   ]
  },
  {
   "cell_type": "code",
   "execution_count": null,
   "metadata": {
    "collapsed": true
   },
   "outputs": [],
   "source": []
  },
  {
   "cell_type": "code",
   "execution_count": null,
   "metadata": {
    "collapsed": true
   },
   "outputs": [],
   "source": []
  },
  {
   "cell_type": "code",
   "execution_count": 26,
   "metadata": {},
   "outputs": [
    {
     "name": "stderr",
     "output_type": "stream",
     "text": [
      "Using TensorFlow backend.\n"
     ]
    }
   ],
   "source": [
    "from keras.models import Sequential\n",
    "from keras.layers import Flatten, Dense, Lambda\n",
    "from keras.layers import Conv2D, Cropping2D"
   ]
  },
  {
   "cell_type": "code",
   "execution_count": 47,
   "metadata": {
    "collapsed": true
   },
   "outputs": [],
   "source": [
    "model = Sequential()\n",
    "model.add(Lambda(lambda x: x/255.0 - 0.5, input_shape=(160,320,3)))\n",
    "model.add(Cropping2D(cropping=((70,25),(0,0))))\n",
    "model.add(Conv2D(6, kernel_size=(5, 5), strides=(1,1), \n",
    "                 padding='same', activation='relu'))\n",
    "model.add(Conv2D(6, kernel_size=(3, 3), strides=(2,2), \n",
    "                 padding='same', activation='relu'))\n",
    "model.add(Conv2D(16, kernel_size=(3, 3), strides=(2,2), \n",
    "                 padding='same', activation='relu'))\n",
    "model.add(Flatten())\n",
    "model.add(Dense(256, activation='relu'))\n",
    "model.add(Dense(84, activation='relu'))\n",
    "model.add(Dense(1))"
   ]
  },
  {
   "cell_type": "code",
   "execution_count": 48,
   "metadata": {
    "collapsed": true
   },
   "outputs": [],
   "source": [
    "model.compile(loss='mse', optimizer='adam')"
   ]
  },
  {
   "cell_type": "code",
   "execution_count": 49,
   "metadata": {
    "collapsed": true
   },
   "outputs": [],
   "source": [
    "epochs = 5\n",
    "batch_size = 32\n",
    "train_steps = len(train_samples)/batch_size\n",
    "validation_steps = len(validation_samples)/batch_size"
   ]
  },
  {
   "cell_type": "code",
   "execution_count": null,
   "metadata": {},
   "outputs": [
    {
     "name": "stderr",
     "output_type": "stream",
     "text": [
      "D:\\Program Files\\Anaconda3\\envs\\RoboND\\lib\\site-packages\\ipykernel\\__main__.py:11: SettingWithCopyWarning: \n",
      "A value is trying to be set on a copy of a slice from a DataFrame\n",
      "\n",
      "See the caveats in the documentation: http://pandas.pydata.org/pandas-docs/stable/indexing.html#indexing-view-versus-copy\n"
     ]
    },
    {
     "name": "stdout",
     "output_type": "stream",
     "text": [
      "Epoch 1/5\n",
      " 22/740 [..............................] - ETA: 2513s - loss: 0.0114"
     ]
    }
   ],
   "source": [
    "history = model.fit_generator(train_generator, validation_data=validation_generator,\n",
    "                              steps_per_epoch=train_steps,\n",
    "                              validation_steps=validation_steps, epochs=5)"
   ]
  },
  {
   "cell_type": "code",
   "execution_count": null,
   "metadata": {
    "collapsed": true
   },
   "outputs": [],
   "source": [
    "# list all data in history\n",
    "print(history.history.keys())\n",
    "# summarize history for loss\n",
    "plt.plot(history.history['loss'])\n",
    "plt.plot(history.history['val_loss'])\n",
    "\n",
    "# plt.title('model loss')\n",
    "plt.ylabel('loss', fontsize=11)\n",
    "plt.xlabel('epoch', fontsize=11)\n",
    "plt.legend(['train', 'valid'], loc='best')\n",
    "plt.xlim((0,10))\n",
    "plt.xticks(np.arange(0, 11, 2))\n",
    "plt.grid()\n",
    "# plt.savefig(img_dir + \"/base_loss.png\", dpi=300)\n",
    "plt.show()"
   ]
  },
  {
   "cell_type": "code",
   "execution_count": 23,
   "metadata": {
    "collapsed": true
   },
   "outputs": [],
   "source": [
    "model.save('model.h5')"
   ]
  }
 ],
 "metadata": {
  "kernelspec": {
   "display_name": "Python [conda env:RoboND]",
   "language": "python",
   "name": "conda-env-RoboND-py"
  },
  "language_info": {
   "codemirror_mode": {
    "name": "ipython",
    "version": 3
   },
   "file_extension": ".py",
   "mimetype": "text/x-python",
   "name": "python",
   "nbconvert_exporter": "python",
   "pygments_lexer": "ipython3",
   "version": "3.5.4"
  }
 },
 "nbformat": 4,
 "nbformat_minor": 2
}
